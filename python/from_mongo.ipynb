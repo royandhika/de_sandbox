{
 "cells": [
  {
   "cell_type": "code",
   "execution_count": 47,
   "metadata": {},
   "outputs": [],
   "source": [
    "from pyspark.sql import SparkSession\n",
    "from pyspark.sql.functions import col, explode, from_json"
   ]
  },
  {
   "cell_type": "code",
   "execution_count": 2,
   "metadata": {},
   "outputs": [
    {
     "name": "stdout",
     "output_type": "stream",
     "text": [
      ":: loading settings :: url = jar:file:/opt/spark/jars/ivy-2.5.1.jar!/org/apache/ivy/core/settings/ivysettings.xml\n"
     ]
    },
    {
     "name": "stderr",
     "output_type": "stream",
     "text": [
      "Ivy Default Cache set to: /home/roy/.ivy2/cache\n",
      "The jars for the packages stored in: /home/roy/.ivy2/jars\n",
      "org.mongodb.spark#mongo-spark-connector_2.12 added as a dependency\n",
      "org.postgresql#postgresql added as a dependency\n",
      ":: resolving dependencies :: org.apache.spark#spark-submit-parent-d0a88e46-56f6-4033-a98a-e192fa471c27;1.0\n",
      "\tconfs: [default]\n",
      "\tfound org.mongodb.spark#mongo-spark-connector_2.12;3.0.0 in central\n",
      "\tfound org.mongodb#mongodb-driver-sync;4.0.5 in central\n",
      "\tfound org.mongodb#bson;4.0.5 in central\n",
      "\tfound org.mongodb#mongodb-driver-core;4.0.5 in central\n",
      "\tfound org.postgresql#postgresql;42.7.3 in central\n",
      "\tfound org.checkerframework#checker-qual;3.42.0 in central\n",
      ":: resolution report :: resolve 420ms :: artifacts dl 23ms\n",
      "\t:: modules in use:\n",
      "\torg.checkerframework#checker-qual;3.42.0 from central in [default]\n",
      "\torg.mongodb#bson;4.0.5 from central in [default]\n",
      "\torg.mongodb#mongodb-driver-core;4.0.5 from central in [default]\n",
      "\torg.mongodb#mongodb-driver-sync;4.0.5 from central in [default]\n",
      "\torg.mongodb.spark#mongo-spark-connector_2.12;3.0.0 from central in [default]\n",
      "\torg.postgresql#postgresql;42.7.3 from central in [default]\n",
      "\t---------------------------------------------------------------------\n",
      "\t|                  |            modules            ||   artifacts   |\n",
      "\t|       conf       | number| search|dwnlded|evicted|| number|dwnlded|\n",
      "\t---------------------------------------------------------------------\n",
      "\t|      default     |   6   |   0   |   0   |   0   ||   6   |   0   |\n",
      "\t---------------------------------------------------------------------\n",
      ":: retrieving :: org.apache.spark#spark-submit-parent-d0a88e46-56f6-4033-a98a-e192fa471c27\n",
      "\tconfs: [default]\n",
      "\t0 artifacts copied, 6 already retrieved (0kB/13ms)\n",
      "24/04/09 02:36:33 WARN NativeCodeLoader: Unable to load native-hadoop library for your platform... using builtin-java classes where applicable\n",
      "Setting default log level to \"WARN\".\n",
      "To adjust logging level use sc.setLogLevel(newLevel). For SparkR, use setLogLevel(newLevel).\n",
      "24/04/09 02:36:36 WARN Utils: Service 'SparkUI' could not bind on port 4040. Attempting port 4041.\n"
     ]
    }
   ],
   "source": [
    "spark = SparkSession.builder \\\n",
    "    .appName(\"migrate\") \\\n",
    "    .config(\"spark.jars.packages\", \"org.mongodb.spark:mongo-spark-connector_2.12:3.0.0,org.postgresql:postgresql:42.7.3\") \\\n",
    "    .getOrCreate()"
   ]
  },
  {
   "cell_type": "code",
   "execution_count": 9,
   "metadata": {},
   "outputs": [
    {
     "name": "stderr",
     "output_type": "stream",
     "text": [
      "                                                                                \r"
     ]
    }
   ],
   "source": [
    "df = spark.read.format(\"mongo\") \\\n",
    "    .option(\"uri\", \"mongodb://192.168.1.16:27017/test.companies\") \\\n",
    "    .load()"
   ]
  },
  {
   "cell_type": "code",
   "execution_count": 16,
   "metadata": {},
   "outputs": [
    {
     "name": "stdout",
     "output_type": "stream",
     "text": [
      "+--------------------+--------------------+--------------------+------------------+--------------------+--------------------+---------------+--------------------+--------------------+--------------------+--------------+----------------+--------------+---------------+--------------------+-------------------+--------------------+-----------+-------------+------------+--------------------+--------------------+--------------------+--------------------+--------------------+--------------------+--------------------+-------------------+--------------------+--------------------+--------+--------------------+--------------+--------------------+--------------------+--------------------+--------------------+--------------------+------------------+----------------+--------------------+--------------------+\n",
      "|                 _id|         acquisition|        acquisitions|        alias_list|       blog_feed_url|            blog_url|  category_code|        competitions|          created_at|      crunchbase_url|deadpooled_day|deadpooled_month|deadpooled_url|deadpooled_year|         description|      email_address|      external_links|founded_day|founded_month|founded_year|      funding_rounds|        homepage_url|               image|         investments|                 ipo|          milestones|                name|number_of_employees|             offices|            overview|partners|           permalink|  phone_number|            products|       providerships|       relationships|         screenshots|            tag_list|total_money_raised|twitter_username|          updated_at|        video_embeds|\n",
      "+--------------------+--------------------+--------------------+------------------+--------------------+--------------------+---------------+--------------------+--------------------+--------------------+--------------+----------------+--------------+---------------+--------------------+-------------------+--------------------+-----------+-------------+------------+--------------------+--------------------+--------------------+--------------------+--------------------+--------------------+--------------------+-------------------+--------------------+--------------------+--------+--------------------+--------------+--------------------+--------------------+--------------------+--------------------+--------------------+------------------+----------------+--------------------+--------------------+\n",
      "|{52cdef7c4bab8bd6...|{30000000, USD, c...|                  []|                  |http://digitalqua...|http://digitalqua...|            web|[{{Wikia, wikia}}...|{\"$date\": 1180075...|http://www.crunch...|          NULL|            NULL|          NULL|              1|Technology Platfo...|  info@wetpaint.com|[{http://www.geek...|         17|           10|        2005|[{1, 10, 2005, 88...|http://wetpaint-i...|{[[[150, 75], ass...|                  []|                NULL|[{5869, Wetpaint ...|            Wetpaint|                 47|[{, 710 - 2nd Ave...|<p>Wetpaint is a ...|      []|                abc2|  206.859.6300|[{Wikison Wetpain...|                  []|[{false, Co-Found...|[{[[[150, 86], as...|wiki, seattle, el...|            $39.8M| BachelrWetpaint|Sun Dec 08 07:15:...|                  []|\n",
      "|{52cdef7c4bab8bd6...|                NULL|                  []|Zoho ManageEngine |                    |                    |     enterprise|                  []|{\"$date\": 1180121...|http://www.crunch...|          NULL|            NULL|          NULL|              2|Server Management...|   pr@adventnet.com|                  []|       NULL|         NULL|        1996|                  []|http://adventnet.com|{[[[150, 55], ass...|                  []|                NULL|                  []|           AdventNet|                600|[{Headquarters, 4...|<p>AdventNet is n...|      []|                abc3|  925-924-9500|                  []|[{DHFH, true, {A ...|[{true, CEO and C...|[{[[[150, 94], as...|                    |                $0|    manageengine|Wed Oct 31 18:26:...|                  []|\n",
      "|{52cdef7c4bab8bd6...|                NULL|                  []|                  |http://blogs.zoho...|http://blogs.zoho...|       software|[{{Empressr, empr...|Fri May 25 19:30:...|http://www.crunch...|          NULL|            NULL|          NULL|              3|Online Business A...|  info@zohocorp.com|[{http://www.onli...|         15|            9|        2005|                  []|     http://zoho.com|{[[[150, 55], ass...|                  []|                NULL|[{388, Zoho Reach...|                Zoho|               1600|[{Headquarters, 4...|<p>Zoho offers a ...|      []|                abc4|1-888-204-3539|[{Zoho Office Sui...|                  []|[{false, CEO and ...|                  []|zoho, officesuite...|                $0|            zoho|Wed Oct 30 00:07:...|[{<object width=\"...|\n",
      "|{52cdef7c4bab8bd6...|{500000, USD, NUL...|[{NULL, USD, NULL...|                  |http://blog.digg....|http://blog.digg....|           news|[{{Reddit, reddit...|Fri May 25 20:03:...|http://www.crunch...|          NULL|            NULL|          NULL|           NULL|user driven socia...|  feedback@digg.com|[{http://www.soci...|         11|           10|        2004|[{1, 12, 2006, 1,...| http://www.digg.com|{[[[150, 150], as...|                  []|                NULL|[{9588, Another D...|                Digg|                 60|[{NULL, 135 Missi...|<p>Digg is a user...|      []|                digg|(415) 436-9638|      [{Digg, digg}]|[{Public Relation...|[{false, CEO, {An...|[{[[[117, 150], a...|community, social...|              $45M|            digg|Tue Nov 05 21:35:...|[{<embed src=\"htt...|\n",
      "|{52cdef7c4bab8bd6...|                NULL|[{NULL, USD, cash...|                  |http://blog.faceb...|http://blog.faceb...|         social|[{{MySpace, myspa...|Fri May 25 21:22:...|http://www.crunch...|          NULL|            NULL|              |           NULL|      Social network|                   |[{http://latimesb...|          1|            2|        2004|[{1, 9, 2004, 2, ...| http://facebook.com|{[[[150, 61], ass...|[{{seed, http://w...|{104000000000, US...|[{108, Facebook a...|            Facebook|               5299|[{Headquarters, 1...|<p>Facebook is th...|      []|            facebook|              |[{Facebook Platfo...|[{, false, {The O...|[{false, Founder ...|[{[[[150, 68], as...|facebook, college...|            $2.43B|        facebook|Thu Nov 21 19:40:...|                  []|\n",
      "|{52cdef7c4bab8bd6...|                NULL|                  []|              NULL|http://feeds.feed...|http://www.omnidr...|network_hosting|[{{Dropbox, dropb...|Sun May 27 03:25:...|http://www.crunch...|            15|               9|              |           2008|                NULL| info@omnidrive.com|                  []|          1|           11|        2005|[{1, 12, 2006, 22...|http://www.omnidr...|{[[[150, 85], ass...|                  []|                NULL|                  []|           Omnidrive|               NULL|[{, Suite 200, 65...|<p>Currently in p...|      []|           omnidrive|  660-675-5052|[{Omnidrive, omni...|                  []|[{true, Co-founde...|                  []|storage, sharing,...|             $800k|        Nomadesk|Tue Jul 02 22:48:...|                  []|\n",
      "|{52cdef7c4bab8bd6...|{625000000, USD, ...|                  []|              NULL|                    |                    |            web|[{{RescueTime, re...|Fri Jun 08 12:19:...|http://www.crunch...|          NULL|            NULL|          NULL|           NULL|                NULL|                   |                  []|          2|            6|        1999|                  []|  http://postini.com|{[[[150, 61], ass...|                  []|                NULL|                  []|             Postini|               NULL|[{NULL, 959 Skywa...|<p>Postini focuse...|      []|             postini|  888.584.3150|[{Postini Solutio...|                  []|[{false, Board, {...|                  []|                    |                $0|            NULL|Sat Aug 13 18:02:...|                  []|\n",
      "|{52cdef7c4bab8bd6...|{NULL, USD, NULL,...|                  []|                  |http://blog.geni....|http://blog.geni.com|            web|[{{Ancestry, ance...|Thu May 31 19:52:...|http://www.crunch...|          NULL|            NULL|          NULL|           NULL|Geneology social ...|                   |                  []|          1|            6|        2006|[{1, 1, 2007, 6, ...| http://www.geni.com|{[[[150, 60], ass...|                  []|                NULL|[{15460, Announce...|                Geni|                 18|[{Headquarters, 9...|<p>Geni is an onl...|      []|                geni|              |      [{Geni, geni}]|                  []|[{false, CEO, {No...|                  []|geni, geneology, ...|            $16.5M|            geni|Wed Oct 10 14:01:...|[{<object width=\"...|\n",
      "|{52cdef7c4bab8bd6...|{20000000, USD, N...|                  []|              NULL|http://www.flekto...|http://www.flekto...|    games_video|[{{RockYou, rocky...|Thu May 31 21:11:...|http://www.crunch...|          NULL|            NULL|          NULL|           NULL|                NULL|               NULL|                  []|       NULL|         NULL|        NULL|                  []|http://www.flekto...|{[[[150, 68], ass...|                  []|                NULL|                  []|             Flektor|               NULL|[{NULL, 8536 Nati...|<p>Flektor is a r...|      []|             flektor|          NULL|[{Flektor, flektor}]|                  []|[{true, COO, Co-F...|                  []|flektor, photo, v...|                $0|            NULL|Sat Nov 05 08:42:...|                  []|\n",
      "|{52cdef7c4bab8bd6...|                NULL|[{2.0E7, USD, NUL...|              NULL|                    |                    |            web|                  []|Thu May 31 21:46:...|http://www.crunch...|          NULL|            NULL|              |           NULL|                    |                   |                  []|          1|            6|        1979|                  []|http://www.newsco...|{[[[150, 71], ass...|[{{b, http://www....|                NULL|                  []|Fox Interactive M...|                  0|[{, 407 N Maple D...|<p>Fox Interactiv...|      []|fox-interactive-m...|              |                  []|                  []|[{false, , {Don, ...|[{[[[150, 94], as...|                    |                $0|      twitterapi|Mon Aug 19 17:13:...|[{<embed src=\"htt...|\n",
      "|{52cdef7c4bab8bd6...|                NULL|[{1.5E7, USD, cas...|                  |http://feeds.feed...|http://twitter.co...|         social|[{{Digg, digg}}, ...|Fri Jun 01 08:42:...|http://www.crunch...|          NULL|            NULL|              |           NULL|Real time communi...|  press@twitter.com|[{http://sec.gov/...|         21|            3|        2006|[{1, 7, 2007, 261...|  http://twitter.com|{[[[150, 150], as...|                  []|{18100000000, USD...|[{1, Survives iPh...|             Twitter|               1300|[{, 1355 Market S...|<p>Created in 200...|      []|             twitter|              |[{Twitter Blocks,...|[{Hosting, true, ...|[{false, CEO, {Di...|[{[[[150, 74], as...|text, messaging, ...|            $1.16B|         twitter|Sat Dec 07 16:07:...|[{<iframe width=\"...|\n",
      "|{52cdef7c4bab8bd6...|{29000000, USD, N...|[{2.9E7, USD, NUL...|                  |                    |http://www.stumbl...|            web|[{{MatchMine, mat...|{\"$date\": 1180690...|http://www.crunch...|          NULL|            NULL|          NULL|           NULL|Content discovery...|                   |[{http://www.face...|          1|            2|        2002|[{1, 12, 2005, 8,...|http://www.stumbl...|{[[[150, 38], ass...|                  []|                NULL|[{3103, Spin-out ...|         StumbleUpon|               NULL|[{, , , , San Fra...|<p>StumbleUpon is...|      []|         stumbleupon|              |                  []|[{, true, {The Ou...|[{false, Co-Found...|[{[[[150, 72], as...|content-discovery...|            $18.5M|     stumbleupon|Wed Mar 20 04:14:...|[{<embed src=\"htt...|\n",
      "|{52cdef7c4bab8bd6...|{NULL, USD, NULL,...|                  []|                  |                    |                    |            web|    [{{Fix8, fix8}}]|Fri Jun 01 19:32:...|http://www.crunch...|          NULL|            NULL|          NULL|           NULL|     Photo animation|                   |                  []|          1|            1|        2003|[{1, 5, 2007, 9, ...|   http://gizmoz.com|                NULL|                  []|                NULL|                  []|              Gizmoz|               NULL|[{NULL, NULL, NUL...|<p>Founded in 200...|      []|              gizmoz|              |  [{Gizmoz, gizmoz}]|                  []|[{false, Chief Te...|                  []|avatar, widget, 3...|            $18.1M|            NULL|Fri Dec 21 04:53:...|                  []|\n",
      "|{52cdef7c4bab8bd6...|                NULL|                  []|                  |http://blog.scrib...|http://blog.scrib...|           news|[{{Docstoc, docst...|Sat Jun 02 07:34:...|http://www.crunch...|          NULL|            NULL|          NULL|           NULL|Read Unlimited Books|feedback@scribd.com|[{http://www.onli...|       NULL|         NULL|        2007|[{1, 6, 2006, 10,...|   http://scribd.com|{[[[114, 114], as...|                  []|                NULL|[{4960, Scribd la...|              Scribd|                 50|[{HQ, 539 Bryant ...|<p>Scribd is the ...|      []|              scribd|              |                  []|                  []|[{false, CEO/Co-F...|[{[[[150, 72], as...|book-subscription...|            $25.8M|          scribd|Sat Dec 14 00:46:...|[{<script src=\"ht...|\n",
      "|{52cdef7c4bab8bd6...|                NULL|                  []|                  |                    |                    |          music|[{{Jango, jango}}...|Mon Jun 04 08:45:...|http://www.crunch...|          NULL|            NULL|          NULL|           NULL|Music Personaliza...|support@slacker.com|                  []|       NULL|         NULL|        2006|[{1, 6, 2007, 12,...|http://www.slacke...|{[[[150, 61], ass...|                  []|                NULL|                  []|             Slacker|               NULL|[{, 16935 W. Bern...|<p>Slacker is the...|      []|             slacker|              |[{Slacker Web Pla...|                  []|[{false, Presiden...|                  []|                    |            $73.1M|    SlackerRadio|Sun Mar 17 08:05:...|                  []|\n",
      "|{52cdef7c4bab8bd6...|{80000000, USD, c...|                  []|                  |http://www.lala.c...|http://www.lala.c...|    games_video|[{{imeem, imeem}}...|Tue Jun 05 12:20:...|http://www.crunch...|          NULL|            NULL|          NULL|           NULL|hub for online mu...|      info@lala.com|                  []|       NULL|         NULL|        NULL|[{1, 1, 2007, 16,...| http://www.lala.com|{[[[150, 75], ass...|                  []|                NULL|[{5065, Apple acq...|                Lala|               NULL|[{Lala Headquarte...|<p>Lala is a hub ...|      []|                lala|(650) 353 3206|      [{Lala, lala}]|                  []|[{false, Board, {...|[{[[[150, 103], a...|                    |            $44.2M|            NULL|Wed Apr 24 05:34:...|                  []|\n",
      "|{52cdef7c4bab8bd6...|{39000000, USD, s...|                  []|                  |                    |                    |         mobile|[{{Sprint Nextel,...|Tue Jun 05 21:39:...|http://www.crunch...|          NULL|            NULL|          NULL|           NULL|Mobile Virtual Ne...|                   |                  []|          1|            2|        2005|                  []|http://www.helio.com|{[[[150, 66], ass...|                  []|                NULL|                  []|               Helio|               NULL|[{NULL, 10960 Wil...|<p>Helio is a pre...|      []|               helio|  310-445-7000|    [{Helio, helio}]|                  []|[{NULL, President...|                  []| mobile, helio, mvno|                $0|            NULL|Mon Apr 27 22:25:...|                  []|\n",
      "|{52cdef7c4bab8bd6...|                NULL|[{1.5E9, USD, sto...|                  |                    |                    |            web|[{{Taobao, taobao...|Wed Jun 06 13:03:...|http://www.crunch...|          NULL|            NULL|          NULL|           NULL|  Online Marketplace|                   |                  []|          1|            9|        1995|[{1, 6, 1997, 245...|     http://ebay.com|{[[[150, 62], ass...|[{{c, http://www....|{NULL, USD, 1998,...|[{7107, eBay Q2 R...|                eBay|              15000|[{Headquarters, 2...|<p>Founded in 199...|      []|                ebay|              |[{eBay Marketplac...|[{Public Relation...|[{false, Founder,...|[{[[[150, 71], as...|auction, bid, sea...|             $6.7M|            eBay|Tue Sep 10 03:38:...|[{<iframe width=\"...|\n",
      "|{52cdef7c4bab8bd6...|                NULL|                  []|              NULL|                    |                    |         social|[{{groovr, groovr...|Thu Jun 07 11:41:...|http://www.crunch...|          NULL|            NULL|          NULL|           NULL|       Mobile Dating|  press@meetmoi.com|[{http://www.soci...|       NULL|         NULL|        2007|[{1, 6, 2007, 18,...|http://www.meetmo...|{[[[143, 59], ass...|                  []|                NULL|                  []|             MeetMoi|                 15|[{NULL, , , , New...|<p>MeetMoi, the l...|      []|             meetmoi|              |[{MeetMoi, meetmo...|                  []|[{false, Founder ...|                  []|mobile, dating, l...|            $5.58M|         meetmoi|Wed Aug 21 19:04:...|[{<iframe src=\"ht...|\n",
      "|{52cdef7c4bab8bd6...|{NULL, USD, NULL,...|                  []|              NULL|http://blog.joost...|http://blog.joost...|    games_video|[{{Babelgum, babe...|Sat Jun 09 07:05:...|http://www.crunch...|          NULL|            NULL|          NULL|           NULL|                NULL|  newyork@joost.com|                  []|          1|           10|        2006|[{9, 5, 2007, 19,...|    http://joost.com|{[[[150, 64], ass...|                  []|                NULL|[{4860, Joost Vid...|               Joost|                  0|[{, 100 5th Ave F...|<p>As their third...|      []|               joost|              |    [{Joost, joost}]|                  []|[{false, CEO, {Ma...|                  []|iptv, babelgum, t...|              $45M|            NULL|Fri Mar 15 23:31:...|[{<object width=\"...|\n",
      "+--------------------+--------------------+--------------------+------------------+--------------------+--------------------+---------------+--------------------+--------------------+--------------------+--------------+----------------+--------------+---------------+--------------------+-------------------+--------------------+-----------+-------------+------------+--------------------+--------------------+--------------------+--------------------+--------------------+--------------------+--------------------+-------------------+--------------------+--------------------+--------+--------------------+--------------+--------------------+--------------------+--------------------+--------------------+--------------------+------------------+----------------+--------------------+--------------------+\n",
      "only showing top 20 rows\n",
      "\n"
     ]
    }
   ],
   "source": [
    "df.show()"
   ]
  },
  {
   "cell_type": "code",
   "execution_count": 31,
   "metadata": {},
   "outputs": [],
   "source": [
    "df_jdbc = df.withColumn(\"_id\", df['_id'].getField(\"oid\").cast(\"string\"))"
   ]
  },
  {
   "cell_type": "code",
   "execution_count": 54,
   "metadata": {},
   "outputs": [
    {
     "name": "stdout",
     "output_type": "stream",
     "text": [
      "+--------------------+------------+-------------------+--------------+--------------------+--------------------+-------------+--------------+------------+--------------------+--------------------+\n",
      "|                 oid|price_amount|price_currency_code|     term_code|          source_url|  source_description|acquired_year|acquired_month|acquired_day|   acquiring_company|        acquisitions|\n",
      "+--------------------+------------+-------------------+--------------+--------------------+--------------------+-------------+--------------+------------+--------------------+--------------------+\n",
      "|52cdef7c4bab8bd67...|    30000000|                USD|cash_and_stock|http://allthingsd...| Viggle Tries to ...|         2013|            12|          16|    {Viggle, viggle}|                  []|\n",
      "|52cdef7c4bab8bd67...|        NULL|               NULL|          NULL|                NULL|                NULL|         NULL|          NULL|        NULL|                NULL|                  []|\n",
      "|52cdef7c4bab8bd67...|        NULL|               NULL|          NULL|                NULL|                NULL|         NULL|          NULL|        NULL|                NULL|                  []|\n",
      "|52cdef7c4bab8bd67...|      500000|                USD|          NULL|http://techcrunch...|Betaworks Acquire...|         2012|             7|          12|{betaworks, betaw...|[{NULL, USD, NULL...|\n",
      "|52cdef7c4bab8bd67...|        NULL|               NULL|          NULL|                NULL|                NULL|         NULL|          NULL|        NULL|                NULL|[{NULL, USD, cash...|\n",
      "|52cdef7c4bab8bd67...|        NULL|               NULL|          NULL|                NULL|                NULL|         NULL|          NULL|        NULL|                NULL|                  []|\n",
      "|52cdef7c4bab8bd67...|   625000000|                USD|          cash|http://www.techcr...|http://www.techcr...|         2007|             7|           9|    {Google, google}|                  []|\n",
      "|52cdef7c4bab8bd67...|        NULL|                USD|          NULL|http://techcrunch...|MyHeritage acquir...|         2012|            11|          28|{MyHeritage, myhe...|                  []|\n",
      "|52cdef7c4bab8bd67...|    20000000|                USD|          NULL|http://venturebea...|Fox Interactive c...|         2007|             5|          30|{Fox Interactive ...|                  []|\n",
      "|52cdef7c4bab8bd67...|        NULL|               NULL|          NULL|                NULL|                NULL|         NULL|          NULL|        NULL|                NULL|[{2.0E7, USD, NUL...|\n",
      "|52cdef7c4bab8bd67...|        NULL|               NULL|          NULL|                NULL|                NULL|         NULL|          NULL|        NULL|                NULL|[{1.5E7, USD, cas...|\n",
      "|52cdef7c4bab8bd67...|    29000000|                USD|          NULL|http://techcrunch...|StumbleUpon Beats...|         2009|             4|        NULL|{StumbleUpon, stu...|[{2.9E7, USD, NUL...|\n",
      "|52cdef7c4bab8bd67...|        NULL|                USD|          NULL|http://www.gizmoz...|          TechCrunch|         2009|            12|          15|    {Daz 3d, daz-3d}|                  []|\n",
      "|52cdef7c4bab8bd67...|        NULL|               NULL|          NULL|                NULL|                NULL|         NULL|          NULL|        NULL|                NULL|                  []|\n",
      "|52cdef7c4bab8bd67...|        NULL|               NULL|          NULL|                NULL|                NULL|         NULL|          NULL|        NULL|                NULL|                  []|\n",
      "|52cdef7c4bab8bd67...|    80000000|                USD|cash_and_stock|http://www.techcr...|          TechCrunch|         2009|            12|           5|      {Apple, apple}|                  []|\n",
      "|52cdef7c4bab8bd67...|    39000000|                USD|         stock|http://news.cnet....|Virgin Mobile USA...|         2008|             6|          27|{Virgin Mobile US...|                  []|\n",
      "|52cdef7c4bab8bd67...|        NULL|               NULL|          NULL|                NULL|                NULL|         NULL|          NULL|        NULL|                NULL|[{1.5E9, USD, sto...|\n",
      "|52cdef7c4bab8bd67...|        NULL|               NULL|          NULL|                NULL|                NULL|         NULL|          NULL|        NULL|                NULL|                  []|\n",
      "|52cdef7c4bab8bd67...|        NULL|                USD|          NULL|http://www.techcr...|Joost Is Now Offi...|         2009|            11|          24|{Adconion Media G...|                  []|\n",
      "+--------------------+------------+-------------------+--------------+--------------------+--------------------+-------------+--------------+------------+--------------------+--------------------+\n",
      "only showing top 20 rows\n",
      "\n"
     ]
    }
   ],
   "source": [
    "df.select('_id.*', 'acquisition.*', 'acquisitions').show()"
   ]
  },
  {
   "cell_type": "code",
   "execution_count": 38,
   "metadata": {},
   "outputs": [],
   "source": [
    "df.createOrReplaceTempView(\"ddf\")"
   ]
  },
  {
   "cell_type": "code",
   "execution_count": 40,
   "metadata": {},
   "outputs": [
    {
     "name": "stdout",
     "output_type": "stream",
     "text": [
      "root\n",
      " |-- _id: struct (nullable = true)\n",
      " |    |-- oid: string (nullable = true)\n",
      " |-- acquisition: struct (nullable = true)\n",
      " |    |-- price_amount: long (nullable = true)\n",
      " |    |-- price_currency_code: string (nullable = true)\n",
      " |    |-- term_code: string (nullable = true)\n",
      " |    |-- source_url: string (nullable = true)\n",
      " |    |-- source_description: string (nullable = true)\n",
      " |    |-- acquired_year: integer (nullable = true)\n",
      " |    |-- acquired_month: integer (nullable = true)\n",
      " |    |-- acquired_day: integer (nullable = true)\n",
      " |    |-- acquiring_company: struct (nullable = true)\n",
      " |    |    |-- name: string (nullable = true)\n",
      " |    |    |-- permalink: string (nullable = true)\n",
      " |-- acquisitions: array (nullable = true)\n",
      " |    |-- element: struct (containsNull = true)\n",
      " |    |    |-- price_amount: double (nullable = true)\n",
      " |    |    |-- price_currency_code: string (nullable = true)\n",
      " |    |    |-- term_code: string (nullable = true)\n",
      " |    |    |-- source_url: string (nullable = true)\n",
      " |    |    |-- source_description: string (nullable = true)\n",
      " |    |    |-- acquired_year: integer (nullable = true)\n",
      " |    |    |-- acquired_month: integer (nullable = true)\n",
      " |    |    |-- acquired_day: integer (nullable = true)\n",
      " |    |    |-- company: struct (nullable = true)\n",
      " |    |    |    |-- name: string (nullable = true)\n",
      " |    |    |    |-- permalink: string (nullable = true)\n",
      " |-- alias_list: string (nullable = true)\n",
      " |-- blog_feed_url: string (nullable = true)\n",
      " |-- blog_url: string (nullable = true)\n",
      " |-- category_code: string (nullable = true)\n",
      " |-- competitions: array (nullable = true)\n",
      " |    |-- element: struct (containsNull = true)\n",
      " |    |    |-- competitor: struct (nullable = true)\n",
      " |    |    |    |-- name: string (nullable = true)\n",
      " |    |    |    |-- permalink: string (nullable = true)\n",
      " |-- created_at: string (nullable = true)\n",
      " |-- crunchbase_url: string (nullable = true)\n",
      " |-- deadpooled_day: integer (nullable = true)\n",
      " |-- deadpooled_month: integer (nullable = true)\n",
      " |-- deadpooled_url: string (nullable = true)\n",
      " |-- deadpooled_year: integer (nullable = true)\n",
      " |-- description: string (nullable = true)\n",
      " |-- email_address: string (nullable = true)\n",
      " |-- external_links: array (nullable = true)\n",
      " |    |-- element: struct (containsNull = true)\n",
      " |    |    |-- external_url: string (nullable = true)\n",
      " |    |    |-- title: string (nullable = true)\n",
      " |-- founded_day: integer (nullable = true)\n",
      " |-- founded_month: integer (nullable = true)\n",
      " |-- founded_year: integer (nullable = true)\n",
      " |-- funding_rounds: array (nullable = true)\n",
      " |    |-- element: struct (containsNull = true)\n",
      " |    |    |-- funded_day: integer (nullable = true)\n",
      " |    |    |-- funded_month: integer (nullable = true)\n",
      " |    |    |-- funded_year: integer (nullable = true)\n",
      " |    |    |-- id: integer (nullable = true)\n",
      " |    |    |-- investments: array (nullable = true)\n",
      " |    |    |    |-- element: struct (containsNull = true)\n",
      " |    |    |    |    |-- company: struct (nullable = true)\n",
      " |    |    |    |    |    |-- name: string (nullable = true)\n",
      " |    |    |    |    |    |-- permalink: string (nullable = true)\n",
      " |    |    |    |    |-- financial_org: struct (nullable = true)\n",
      " |    |    |    |    |    |-- name: string (nullable = true)\n",
      " |    |    |    |    |    |-- permalink: string (nullable = true)\n",
      " |    |    |    |    |-- person: struct (nullable = true)\n",
      " |    |    |    |    |    |-- first_name: string (nullable = true)\n",
      " |    |    |    |    |    |-- last_name: string (nullable = true)\n",
      " |    |    |    |    |    |-- permalink: string (nullable = true)\n",
      " |    |    |-- raised_amount: integer (nullable = true)\n",
      " |    |    |-- raised_currency_code: string (nullable = true)\n",
      " |    |    |-- round_code: string (nullable = true)\n",
      " |    |    |-- source_description: string (nullable = true)\n",
      " |    |    |-- source_url: string (nullable = true)\n",
      " |-- homepage_url: string (nullable = true)\n",
      " |-- image: struct (nullable = true)\n",
      " |    |-- available_sizes: array (nullable = true)\n",
      " |    |    |-- element: array (containsNull = true)\n",
      " |    |    |    |-- element: string (containsNull = true)\n",
      " |    |-- attribution: void (nullable = true)\n",
      " |-- investments: array (nullable = true)\n",
      " |    |-- element: struct (containsNull = true)\n",
      " |    |    |-- funding_round: struct (nullable = true)\n",
      " |    |    |    |-- round_code: string (nullable = true)\n",
      " |    |    |    |-- source_url: string (nullable = true)\n",
      " |    |    |    |-- source_description: string (nullable = true)\n",
      " |    |    |    |-- raised_amount: integer (nullable = true)\n",
      " |    |    |    |-- raised_currency_code: string (nullable = true)\n",
      " |    |    |    |-- funded_year: integer (nullable = true)\n",
      " |    |    |    |-- funded_month: integer (nullable = true)\n",
      " |    |    |    |-- funded_day: integer (nullable = true)\n",
      " |    |    |    |-- company: struct (nullable = true)\n",
      " |    |    |    |    |-- name: string (nullable = true)\n",
      " |    |    |    |    |-- permalink: string (nullable = true)\n",
      " |-- ipo: struct (nullable = true)\n",
      " |    |-- valuation_amount: long (nullable = true)\n",
      " |    |-- valuation_currency_code: string (nullable = true)\n",
      " |    |-- pub_year: integer (nullable = true)\n",
      " |    |-- pub_month: integer (nullable = true)\n",
      " |    |-- pub_day: integer (nullable = true)\n",
      " |    |-- stock_symbol: string (nullable = true)\n",
      " |-- milestones: array (nullable = true)\n",
      " |    |-- element: struct (containsNull = true)\n",
      " |    |    |-- id: integer (nullable = true)\n",
      " |    |    |-- description: string (nullable = true)\n",
      " |    |    |-- stoned_year: integer (nullable = true)\n",
      " |    |    |-- stoned_month: integer (nullable = true)\n",
      " |    |    |-- stoned_day: integer (nullable = true)\n",
      " |    |    |-- source_url: string (nullable = true)\n",
      " |    |    |-- source_text: string (nullable = true)\n",
      " |    |    |-- source_description: string (nullable = true)\n",
      " |    |    |-- stoneable_type: string (nullable = true)\n",
      " |    |    |-- stoned_value: void (nullable = true)\n",
      " |    |    |-- stoned_value_type: void (nullable = true)\n",
      " |    |    |-- stoned_acquirer: void (nullable = true)\n",
      " |    |    |-- stoneable: struct (nullable = true)\n",
      " |    |    |    |-- name: string (nullable = true)\n",
      " |    |    |    |-- permalink: string (nullable = true)\n",
      " |-- name: string (nullable = true)\n",
      " |-- number_of_employees: integer (nullable = true)\n",
      " |-- offices: array (nullable = true)\n",
      " |    |-- element: struct (containsNull = true)\n",
      " |    |    |-- description: string (nullable = true)\n",
      " |    |    |-- address1: string (nullable = true)\n",
      " |    |    |-- address2: string (nullable = true)\n",
      " |    |    |-- zip_code: string (nullable = true)\n",
      " |    |    |-- city: string (nullable = true)\n",
      " |    |    |-- state_code: string (nullable = true)\n",
      " |    |    |-- country_code: string (nullable = true)\n",
      " |    |    |-- latitude: double (nullable = true)\n",
      " |    |    |-- longitude: double (nullable = true)\n",
      " |-- overview: string (nullable = true)\n",
      " |-- partners: array (nullable = true)\n",
      " |    |-- element: struct (containsNull = true)\n",
      " |    |    |-- partner_name: string (nullable = true)\n",
      " |    |    |-- homepage_url: string (nullable = true)\n",
      " |    |    |-- link_1_url: string (nullable = true)\n",
      " |    |    |-- link_2_url: void (nullable = true)\n",
      " |    |    |-- link_3_url: void (nullable = true)\n",
      " |    |    |-- link_1_name: string (nullable = true)\n",
      " |    |    |-- link_2_name: void (nullable = true)\n",
      " |    |    |-- link_3_name: void (nullable = true)\n",
      " |-- permalink: string (nullable = true)\n",
      " |-- phone_number: string (nullable = true)\n",
      " |-- products: array (nullable = true)\n",
      " |    |-- element: struct (containsNull = true)\n",
      " |    |    |-- name: string (nullable = true)\n",
      " |    |    |-- permalink: string (nullable = true)\n",
      " |-- providerships: array (nullable = true)\n",
      " |    |-- element: struct (containsNull = true)\n",
      " |    |    |-- title: string (nullable = true)\n",
      " |    |    |-- is_past: boolean (nullable = true)\n",
      " |    |    |-- provider: struct (nullable = true)\n",
      " |    |    |    |-- name: string (nullable = true)\n",
      " |    |    |    |-- permalink: string (nullable = true)\n",
      " |-- relationships: array (nullable = true)\n",
      " |    |-- element: struct (containsNull = true)\n",
      " |    |    |-- is_past: boolean (nullable = true)\n",
      " |    |    |-- title: string (nullable = true)\n",
      " |    |    |-- person: struct (nullable = true)\n",
      " |    |    |    |-- first_name: string (nullable = true)\n",
      " |    |    |    |-- last_name: string (nullable = true)\n",
      " |    |    |    |-- permalink: string (nullable = true)\n",
      " |-- screenshots: array (nullable = true)\n",
      " |    |-- element: struct (containsNull = true)\n",
      " |    |    |-- available_sizes: array (nullable = true)\n",
      " |    |    |    |-- element: array (containsNull = true)\n",
      " |    |    |    |    |-- element: string (containsNull = true)\n",
      " |    |    |-- attribution: void (nullable = true)\n",
      " |-- tag_list: string (nullable = true)\n",
      " |-- total_money_raised: string (nullable = true)\n",
      " |-- twitter_username: string (nullable = true)\n",
      " |-- updated_at: string (nullable = true)\n",
      " |-- video_embeds: array (nullable = true)\n",
      " |    |-- element: struct (containsNull = true)\n",
      " |    |    |-- embed_code: string (nullable = true)\n",
      " |    |    |-- description: string (nullable = true)\n",
      "\n"
     ]
    }
   ],
   "source": [
    "spark.sql('select * from ddf').printSchema()"
   ]
  },
  {
   "cell_type": "code",
   "execution_count": 55,
   "metadata": {},
   "outputs": [
    {
     "data": {
      "text/plain": [
       "[StructField('_id', StringType(), True),\n",
       " StructField('acquisition', StructType([StructField('price_amount', LongType(), True), StructField('price_currency_code', StringType(), True), StructField('term_code', StringType(), True), StructField('source_url', StringType(), True), StructField('source_description', StringType(), True), StructField('acquired_year', IntegerType(), True), StructField('acquired_month', IntegerType(), True), StructField('acquired_day', IntegerType(), True), StructField('acquiring_company', StructType([StructField('name', StringType(), True), StructField('permalink', StringType(), True)]), True)]), True),\n",
       " StructField('acquisitions', ArrayType(StructType([StructField('price_amount', DoubleType(), True), StructField('price_currency_code', StringType(), True), StructField('term_code', StringType(), True), StructField('source_url', StringType(), True), StructField('source_description', StringType(), True), StructField('acquired_year', IntegerType(), True), StructField('acquired_month', IntegerType(), True), StructField('acquired_day', IntegerType(), True), StructField('company', StructType([StructField('name', StringType(), True), StructField('permalink', StringType(), True)]), True)]), True), True),\n",
       " StructField('alias_list', StringType(), True),\n",
       " StructField('blog_feed_url', StringType(), True),\n",
       " StructField('blog_url', StringType(), True),\n",
       " StructField('category_code', StringType(), True),\n",
       " StructField('competitions', ArrayType(StructType([StructField('competitor', StructType([StructField('name', StringType(), True), StructField('permalink', StringType(), True)]), True)]), True), True),\n",
       " StructField('created_at', StringType(), True),\n",
       " StructField('crunchbase_url', StringType(), True),\n",
       " StructField('deadpooled_day', IntegerType(), True),\n",
       " StructField('deadpooled_month', IntegerType(), True),\n",
       " StructField('deadpooled_url', StringType(), True),\n",
       " StructField('deadpooled_year', IntegerType(), True),\n",
       " StructField('description', StringType(), True),\n",
       " StructField('email_address', StringType(), True),\n",
       " StructField('external_links', ArrayType(StructType([StructField('external_url', StringType(), True), StructField('title', StringType(), True)]), True), True),\n",
       " StructField('founded_day', IntegerType(), True),\n",
       " StructField('founded_month', IntegerType(), True),\n",
       " StructField('founded_year', IntegerType(), True),\n",
       " StructField('funding_rounds', ArrayType(StructType([StructField('funded_day', IntegerType(), True), StructField('funded_month', IntegerType(), True), StructField('funded_year', IntegerType(), True), StructField('id', IntegerType(), True), StructField('investments', ArrayType(StructType([StructField('company', StructType([StructField('name', StringType(), True), StructField('permalink', StringType(), True)]), True), StructField('financial_org', StructType([StructField('name', StringType(), True), StructField('permalink', StringType(), True)]), True), StructField('person', StructType([StructField('first_name', StringType(), True), StructField('last_name', StringType(), True), StructField('permalink', StringType(), True)]), True)]), True), True), StructField('raised_amount', IntegerType(), True), StructField('raised_currency_code', StringType(), True), StructField('round_code', StringType(), True), StructField('source_description', StringType(), True), StructField('source_url', StringType(), True)]), True), True),\n",
       " StructField('homepage_url', StringType(), True),\n",
       " StructField('image', StructType([StructField('available_sizes', ArrayType(ArrayType(StringType(), True), True), True), StructField('attribution', NullType(), True)]), True),\n",
       " StructField('investments', ArrayType(StructType([StructField('funding_round', StructType([StructField('round_code', StringType(), True), StructField('source_url', StringType(), True), StructField('source_description', StringType(), True), StructField('raised_amount', IntegerType(), True), StructField('raised_currency_code', StringType(), True), StructField('funded_year', IntegerType(), True), StructField('funded_month', IntegerType(), True), StructField('funded_day', IntegerType(), True), StructField('company', StructType([StructField('name', StringType(), True), StructField('permalink', StringType(), True)]), True)]), True)]), True), True),\n",
       " StructField('ipo', StructType([StructField('valuation_amount', LongType(), True), StructField('valuation_currency_code', StringType(), True), StructField('pub_year', IntegerType(), True), StructField('pub_month', IntegerType(), True), StructField('pub_day', IntegerType(), True), StructField('stock_symbol', StringType(), True)]), True),\n",
       " StructField('milestones', ArrayType(StructType([StructField('id', IntegerType(), True), StructField('description', StringType(), True), StructField('stoned_year', IntegerType(), True), StructField('stoned_month', IntegerType(), True), StructField('stoned_day', IntegerType(), True), StructField('source_url', StringType(), True), StructField('source_text', StringType(), True), StructField('source_description', StringType(), True), StructField('stoneable_type', StringType(), True), StructField('stoned_value', NullType(), True), StructField('stoned_value_type', NullType(), True), StructField('stoned_acquirer', NullType(), True), StructField('stoneable', StructType([StructField('name', StringType(), True), StructField('permalink', StringType(), True)]), True)]), True), True),\n",
       " StructField('name', StringType(), True),\n",
       " StructField('number_of_employees', IntegerType(), True),\n",
       " StructField('offices', ArrayType(StructType([StructField('description', StringType(), True), StructField('address1', StringType(), True), StructField('address2', StringType(), True), StructField('zip_code', StringType(), True), StructField('city', StringType(), True), StructField('state_code', StringType(), True), StructField('country_code', StringType(), True), StructField('latitude', DoubleType(), True), StructField('longitude', DoubleType(), True)]), True), True),\n",
       " StructField('overview', StringType(), True),\n",
       " StructField('partners', ArrayType(StructType([StructField('partner_name', StringType(), True), StructField('homepage_url', StringType(), True), StructField('link_1_url', StringType(), True), StructField('link_2_url', NullType(), True), StructField('link_3_url', NullType(), True), StructField('link_1_name', StringType(), True), StructField('link_2_name', NullType(), True), StructField('link_3_name', NullType(), True)]), True), True),\n",
       " StructField('permalink', StringType(), True),\n",
       " StructField('phone_number', StringType(), True),\n",
       " StructField('products', ArrayType(StructType([StructField('name', StringType(), True), StructField('permalink', StringType(), True)]), True), True),\n",
       " StructField('providerships', ArrayType(StructType([StructField('title', StringType(), True), StructField('is_past', BooleanType(), True), StructField('provider', StructType([StructField('name', StringType(), True), StructField('permalink', StringType(), True)]), True)]), True), True),\n",
       " StructField('relationships', ArrayType(StructType([StructField('is_past', BooleanType(), True), StructField('title', StringType(), True), StructField('person', StructType([StructField('first_name', StringType(), True), StructField('last_name', StringType(), True), StructField('permalink', StringType(), True)]), True)]), True), True),\n",
       " StructField('screenshots', ArrayType(StructType([StructField('available_sizes', ArrayType(ArrayType(StringType(), True), True), True), StructField('attribution', NullType(), True)]), True), True),\n",
       " StructField('tag_list', StringType(), True),\n",
       " StructField('total_money_raised', StringType(), True),\n",
       " StructField('twitter_username', StringType(), True),\n",
       " StructField('updated_at', StringType(), True),\n",
       " StructField('video_embeds', ArrayType(StructType([StructField('embed_code', StringType(), True), StructField('description', StringType(), True)]), True), True)]"
      ]
     },
     "execution_count": 55,
     "metadata": {},
     "output_type": "execute_result"
    }
   ],
   "source": [
    "df_jdbc.schema.fields"
   ]
  },
  {
   "cell_type": "code",
   "execution_count": 5,
   "metadata": {},
   "outputs": [
    {
     "name": "stderr",
     "output_type": "stream",
     "text": [
      "[Stage 1:>                                                          (0 + 1) / 1]\r"
     ]
    },
    {
     "name": "stdout",
     "output_type": "stream",
     "text": [
      "+---+--------------------+----------+----------+--------------------+---------+-------------------+--------------------+-------+--------------------+--------------------+\n",
      "|_id|             authors|categories|      isbn|     longDescription|pageCount|      publishedDate|    shortDescription| status|        thumbnailUrl|               title|\n",
      "+---+--------------------+----------+----------+--------------------+---------+-------------------+--------------------+-------+--------------------+--------------------+\n",
      "|  2|[W. Frank Ableson...|    [Java]|1935182722|When it comes to ...|      592|2011-01-14 03:00:00|Android in Action...|PUBLISH|https://s3.amazon...|Android in Action...|\n",
      "+---+--------------------+----------+----------+--------------------+---------+-------------------+--------------------+-------+--------------------+--------------------+\n",
      "\n"
     ]
    },
    {
     "name": "stderr",
     "output_type": "stream",
     "text": [
      "                                                                                \r"
     ]
    }
   ],
   "source": [
    "df.filter(df['_id']==2).show()"
   ]
  },
  {
   "cell_type": "code",
   "execution_count": 7,
   "metadata": {},
   "outputs": [],
   "source": [
    "## PSOTGRES\n",
    "server_target = \"192.168.1.16:5432\"\n",
    "db_target = \"internal\"\n",
    "user_target = \"postgres\"\n",
    "password_target = \"postgres\"\n",
    "url_target = \"jdbc:postgresql://\" + server_target + \"/\" + db_target\n",
    "prop_target = {\n",
    "    \"user\": user_target,\n",
    "    \"password\": password_target\n",
    "}\n",
    "table_target = \"raw.books\""
   ]
  },
  {
   "cell_type": "code",
   "execution_count": 8,
   "metadata": {},
   "outputs": [
    {
     "name": "stderr",
     "output_type": "stream",
     "text": [
      "                                                                                \r"
     ]
    }
   ],
   "source": [
    "df.write.jdbc(url=url_target, table=table_target, properties=prop_target)"
   ]
  }
 ],
 "metadata": {
  "kernelspec": {
   "display_name": "roy",
   "language": "python",
   "name": "python3"
  },
  "language_info": {
   "codemirror_mode": {
    "name": "ipython",
    "version": 3
   },
   "file_extension": ".py",
   "mimetype": "text/x-python",
   "name": "python",
   "nbconvert_exporter": "python",
   "pygments_lexer": "ipython3",
   "version": "3.9.18"
  }
 },
 "nbformat": 4,
 "nbformat_minor": 2
}
